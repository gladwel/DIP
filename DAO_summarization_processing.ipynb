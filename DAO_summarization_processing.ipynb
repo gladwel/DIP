{
  "cells": [
    {
      "cell_type": "markdown",
      "metadata": {
        "id": "view-in-github",
        "colab_type": "text"
      },
      "source": [
        "<a href=\"https://colab.research.google.com/github/gladwel/DIP/blob/main/DAO_summarization_processing.ipynb\" target=\"_parent\"><img src=\"https://colab.research.google.com/assets/colab-badge.svg\" alt=\"Open In Colab\"/></a>"
      ]
    },
    {
      "cell_type": "markdown",
      "source": [
        "# Exploratory Data Analysis"
      ],
      "metadata": {
        "id": "5MquMC3Wj---"
      }
    },
    {
      "cell_type": "markdown",
      "source": [
        "Exploratory data analysis (EDA) is an approach to analyzing data sets to summarize their main characteristics, often with visual methods. This step is absolutely necessary and has a huge impact on the final result of a model, this analysis will tell us what type of transformation we need to apply to our data. When we face a machine learning problem, we must begin by analyzing the input dataset, seeking to identify its characteristics and anomalies."
      ],
      "metadata": {
        "id": "Vwmd9z0CkKpr"
      }
    },
    {
      "cell_type": "code",
      "execution_count": null,
      "metadata": {
        "collapsed": true,
        "id": "9wRmTo41jN3b"
      },
      "outputs": [],
      "source": [
        "data_path = 'data/'\n",
        "data_filename='Inshorts Cleaned Data.xlsx'\n",
        "output_path='data_analysis/'\n",
        "# Load the data from the file system\n",
        "summary = pd.read_excel(data_path + data_filename)\n",
        "summary.head(5)\n",
        "# Drop unecessary columns\n",
        "summary.drop(labels=['Source ','Time ', 'Publish Date'], axis=1)\n",
        "#Remove duplicates on the ctext \n",
        "summary.drop_duplicates(subset=[\"Short\"],inplace=True)\n",
        "#Remove rows containing null values\n",
        "summary.dropna(inplace=True)\n",
        "#Recreate the dataframe index\n",
        "summary.reset_index(drop=True,inplace=True)\n",
        "summary.describe()"
      ]
    }
  ],
  "metadata": {
    "kernelspec": {
      "display_name": "Python 3",
      "language": "python",
      "name": "python3"
    },
    "language_info": {
      "codemirror_mode": {
        "name": "ipython",
        "version": 2
      },
      "file_extension": ".py",
      "mimetype": "text/x-python",
      "name": "python",
      "nbconvert_exporter": "python",
      "pygments_lexer": "ipython2",
      "version": "2.7.6"
    },
    "colab": {
      "provenance": [],
      "include_colab_link": true
    }
  },
  "nbformat": 4,
  "nbformat_minor": 0
}