{
 "cells": [
  {
   "cell_type": "code",
   "execution_count": 3,
   "metadata": {
    "collapsed": true
   },
   "outputs": [],
   "source": [
    "import pandas as pd"
   ]
  },
  {
   "cell_type": "code",
   "execution_count": 7,
   "outputs": [],
   "source": [
    "# read df from csv\n",
    "df = pd.read_csv('../data/GPT/summaries_GPT3_5_turbo_GPT4.csv')\n",
    "df_BART = pd.read_csv('../data/BART/summaries_BART.csv')\n",
    "df['BART_large_CNN_summary']=df_BART['extractiveSummarization']"
   ],
   "metadata": {
    "collapsed": false
   }
  },
  {
   "cell_type": "markdown",
   "source": [
    "# Compare methods"
   ],
   "metadata": {
    "collapsed": false
   }
  },
  {
   "cell_type": "markdown",
   "source": [
    "## Manual checking"
   ],
   "metadata": {
    "collapsed": false
   }
  },
  {
   "cell_type": "code",
   "execution_count": 3,
   "outputs": [
    {
     "name": "stdout",
     "output_type": "stream",
     "text": [
      "Simple Summary. This proposal calls for the integration of [Balancer Boosted Pools]([link]) into the 1inch Aggregation Protocol. Abstract. This proposal aims to grow the kinds of liquidity sources compatible with the 1inch Aggregation Protocol by integrating Balancer Boosted Pools. To fund this development, a BAL grant from Balancer DAO and Balancer DAO will be awarded to 1inch Labs upon the successful completion of the integration. Specifically, the following. 1. 1inch Labs shall integrate the Balancer Boosted Pools into the 1inch smart contracts, the 1inch dApp, and the 1inch API. 2. The integration shall be live on the Ethereum main-net no later than 3 weeks after this proposal passes the Phase-4 snapshot vote. 3. If both conditions 1 and 2 are met, Balancer DAO and Balancer DAO will transfer 20k BAL or the equivalent in stablecoins (as determined by Balancer DAO) to 1inch Labs. Motivation. Balancer Boosted Pools are a new pool type that have been gaining traction from many DeFi protocols. These pools were previously discussed with the 1inch community on the [1inch Governance Forum]([link]) as well as the [1inch Network DAO Community Call 02]([link]) Given that this is a new pool type and requires effort from 1inch Labs, Balancer seeks to fund this integration via a payment of 20,000 BAL to 1inch Labs. Specification. At a high level, integration of Balancer Boosted Pools would require support for Balancers BatchSwap function, the routing of trades through multiple Balancer pools including linear pools nested in the boosted pool and the math in the linear pools. This proposal hopes that the support for Boosted Pools is general and can later be expanded to new future Boosted Pools. The integration of Balancers BatchSwap function within the 1inch Network will also be able to be used for pools other than Boosted Pools which would benefit both the 1inch Network and Balancer as it would allow for cheaper execution of trades from the wider Balancer pool types. In the near future we expect to see meta pools created with the BPT of Boosted Pools, an example would be a bbaUSD/WETH pool. Routing trades through such pools would include one or more extra hop through Balancers BatchSwap function. We expect that there will be many new Boosted Pools across all networks in near future, namely poos in collaboration with Ampleforth and Olympus although, below is a non-exhaustive list of currently live Boosted Pools on Ethereum L1: 1. bbaUSD, containing 300mm of DAI/USDC/USDT TVL. 2. bbfUSD, [expected]([link]) to contain at least 50mm of FEI/LUSD/DAI. This is contingent on the same proposal passing through the BalancerDAO. Upon satisfactory integration <sup>Note1</sup>, 20,000 BAL shall be sent to 1inch Labs ETH address: [hexadecimals] Note 1: Satisfactory integration is defined as the 1inch Aggregation Protocol accurately forwarding trades through the bbaUSD and the bbfUSD pools, on Ethereum main-net, when those pools offer the optimal pricing for the end-user. Rationale. Support for the mentioned pools will unlock $350mm of efficient TVL for the 1inch Aggregation Protocol and allow it to have access to cheap liquidity for trade routing at the moment of integration and much more TVL in the future as Boosted Pool continue their adoption. Additionally, Boosted Pools have been adapted by BeethovenX, Balancers Friendly Fork on Fantom and, integrating them would provide a good source for volume to 1inch on Fantom as well. Balancer Boosted Pools are in much demand from other DeFi protocols due to their innovation in capital efficiency thus, it is expected to see many more Balancer Boosted Pools with high TVL in collaboration with other DAOs, some of which were mentioned in the discussion on the forum. Supporting Boosted Pools will position the 1inch aggregator to be able to rapidly integrate any new Boosted Pools launched. This BAL grant would be used by 1inch Labs to fund the development of this integration. Considerations. The technical specifics of this integration will be defined by 1inch Labs. Like all new modules they have launched, a complete internal security review and audit should be performed before this change is implemented on main-net. Because Balancer DAO is directly funding this integration, other upgrades to the 1inch Network can be made in parallel. \n",
      "\n",
      "Summary. 1inch Network was founded on core values of decentralization and open financial freedom, with a goal of improving the human condition for everyone on the planet. As one of the leading dApps in the DeFi space, it is in a unique position to extend additional assistance to people in a time of need. With that said, this proposal seeks to donate 1 million USDC of 1inch DAO Treasury funds to support humanitarian aid within the country of Ukraine. Abstract. Since inception just over 3 months ago, the 1inch DAO Treasury has been highly successful in growing its total capital. It has accumulated close to 7 million USDC to date from a steady income stream of swap surplus funds. This proposal aims to donate 1 million USDC of these accumulated funds to provide critical humanitarian support within Ukraines conflict zone. Specifically, these funds will be converted into USDT via 1inch v4 protocol, then transferred to the official wallet of Ukraine, as outlined [here]([link]) These funds will then be distributed as needed to civilians for repairing infrastructure, supporting health facilities with medicine and equipment, and supporting families with food and hygiene items. Motivation. 1inch Network is a global project which brings together extraordinary minds from all over the world. Both users and contributors alike are negatively affected by the recent war-time events unfolding this week, and it is the absolute duty of 1inch DAO to provide support to civilians within the conflict zone in every way possible. Specification. 1. Swap 1,000,500 USDC to USDT within multi-sig on [1inch app]([link]) 2. Transfer 1,000,000 USDT from 1inch DAO Treasury multi-sig wallet to the official humanitarian wallet of Ukraine Due to exchange rates, a slightly higher amount of USDC is required to receive 1,000,000 USDT when swapping 1inch DAO Treasury address: [hexadecimals] Donation address: [hexadecimals] Rationale. This donation address has been [verified]([link]) by the crypto community as legitimate, and has been identified as having a direct impact on the humanitarian crisis currently unfolding in Ukraine. Considerations. With the 1inch DAO Treasurys historical rate of growth, the donation amount of 1 million USDC will have minimal impact on the DAOs ability to fund future developments of 1inch Network. At the same time, this amount will have a significant impact on the humanitarian relief efforts for Ukraine and its citizens. For accountability, a screenshot and link to the transaction will be added to this proposal once the transfer of funds is complete. [Link to Phase-3 temperature check vote.]([link]) \n",
      "\n",
      "Authors: [Trent]([link]) (PG Member), [Tim]([link]) (PG Member) Abstract. This is a proposal for the Uniswap community to support important Ethereum Public Goods through the Protocol Guild: a vested split contract which goes to 110 core protocol contributors. We propose that 500k UNI (~$2.5mm @ $5.19 UNI) be allocated to support the ongoing work of these core contributors in the initial Protocol Guild Pilot. Participating in the 1 year Pilot allows guild members to engage with Uniswap in a way that is values- and incentive-aligned. Simultaneously, it will allow them to continue the important work of scaling our shared infrastructure and making it as resilient as possible for the applications on top of it. Useful links [Protocol Guild Docs]([link]) [1 Year Vesting Contract]([link]) [Initial Announcement - Dec 2021]([link]) [List of Members]([link]) [PG twitter account]([link]) Context. 1. As a credibly neutral, maximally uncapturable infrastructure with no block reward, the Ethereum base protocol doesn't offer the same token incentives to contributors as applications or L2s can. However, the protocol still needs to attract and retain talent to continue to evolve. As the broader ecosystem continues to grow, competition for talented individuals will only increase. This isn't to fault individuals for rationally weighting financial incentives, or protocols for leveraging the power of tokens - this is just the reality of the current context. We also acknowledge that financial motivations aren't the only or best motivator for people, its just one tool in our toolset that is currently underleveraged. 2. Existing public goods funding solutions tend to be either too narrow or broad in scope, fail to exclusively target core protocol contributors, or depend on an intermediating institution, which often leads to organizations, and not individuals, being recipients of funds. 3. The Protocol benefits from contributor continuity. Transferring institutional knowledge between cohorts is more likely to happen successfully the more overlap there is. Heres a longer exploration of the [project rationale]([link]) If we believe what we are building is important, then we should structure the incentives to attract more smart people to work on it. After all - \"Ethereum is an unprecedented arena for playing cooperative games; we should try to manifest the novel possibilities made possible by this arena. ([Griffith, 2019]([link])) What is the Protocol Guild? The Protocol Guild aims to address the challenges mentioned above with a simple tool: a weighted split contract that includes vesting. Members will solicit sponsorships in the form of tokens from applications & protocols that build on Ethereum, which gives core contributors exposure to success at the application layer: current contributors are rewarded for past work through [time-based weighting]([link]) current contributors contribute for longer periods, resulting in less contributor churn, better institutional knowledge transfer, and more stable core infrastructure new contributors are incentivized to join core protocol work, protocol evolution and maintenance is more robust. To date, the membership includes over 110 Ethereum protocol contributors, including researchers, client maintainers, upgrade coordinators, and more, all self-curated (member list [here]([link])) This is a broad-based ecosystem effort: members come from 22 different teams and 9 organizations. Only 30% of members are directly employed by the EF. The membership is continuously curated and there are quarterly updates to the split contract. The Guild contracts will act as an autonomous value routing mechanism, operated independently from any existing institution, purpose-built for incentivizing long-term core protocol work. At no point does PG take custody of funds on behalf of members, it is all handled trustlessly. The diagram below and the [docs]([link]) have more information. ![0xsplits [image]]([link]) PG Pilot. Since starting the project in Nov 2021, we've built norms around member onboarding, refined the splitting and vesting mechanisms, and have created extensive documentation on how PG operates. At this point, we're ready to test the mechanisms efficacy with a 1 year / $10-20mm Pilot. We want to make sure the mechanism operates smoothly before graduating to a larger round with longer vesting periods. We are currently outreaching to 5-10 prominent Ethereum-based projects to get commitments for this important first milestone. We want to ensure there is a healthy diversity of contributing protocols both in terms of USD value as well as domain (eg. DeFi, staking, etc) The first commitment is from Lido to contribute [2,000,000 LDO]([link]), and the [vote]([link]) ([forum post]([link])) to contribute 200k ENS will conclude in the next few days. The funds for the Pilot would be vested directly to Guild members over one year: see the [Pilot vesting contract here]([link]) Note that funds would not replace salaries for core contributors, and each recipient would be making an independent decision about how to use their tokens once vested. Proposal. We are inviting the Uniswap community to be part of this inaugural Pilot in the form of a 500k UNI transfer to the Protocol Guilds vesting contract. We think this is an appropriate amount which balances between the current size of the treasury ([$1.2b as of May 16, 2022]([link])), the number of beneficiaries, and the scope and intent of the Pilot. There are a few reasons why supporting the Protocol Guild benefits the Uniswap community: Uniswaps long-term success is tightly coupled with the continued evolution and maintenance of the Ethereum protocol. These are projects that often have multi-year timelines. Contributing to the Pilot meaningfully increases the incentive to contribute to the core protocol, including: [The Merge]([link]): moving from PoW to PoS, increasing security and sustainability. EVM improvements: new functionality for developers like [EOF]([link]) [Statelessness]([link]): sustainable management for state growth. Supporting L2 scaling: [EIP-4844]([link]), [EIP-4488]([link]) [Proposer Builder Separation]([link]): reducing centralizing incentives for consensus participants. Continuous client maintenance: improving sync, exploring new database types, researching modular clients. Coordinating network upgrades: making sure the community helps to shape and is aware of network upgrades Having exposure to UNI allows protocol contributors to engage more with Uniswap governance. Members will be encouraged (but not obligated) to use the vested tokens in their respective governance framework. Uniswap should be among the protocols maximally aligned with the Public Goods of the largest ecosystem it operates in. Pilot participation maintains and expands the Uniswap communitys existing reputation for funding Public Goods. Diverse funding sources from the community further decentralizes protocol governance and prevents influence from pooling with any single entity. Next Steps. If this Temp Check Snapshot vote has a positive outcome, we will move to a consensus check, and then an onchain vote. \n",
      "\n"
     ]
    }
   ],
   "source": [
    "for i in df['seniorDescription'].iloc[0:3].to_list(): print(i, '\\n')"
   ],
   "metadata": {
    "collapsed": false
   }
  },
  {
   "cell_type": "code",
   "execution_count": 4,
   "outputs": [
    {
     "name": "stdout",
     "output_type": "stream",
     "text": [
      "The proposal is about integrating Balancer Boosted Pools into the 1inch Aggregation Protocol. This would allow 1inch to have access to cheap liquidity for trade routing, and position the 1inch aggregator to be able to rapidly integrate any new Boosted Pools that are launched in the future. \n",
      "\n",
      "The 1inch DAO Treasury is proposing to donate 1 million USDC to support humanitarian aid within the country of Ukraine. The funds will be used to help civilians with repairing infrastructure, supporting health facilities with medicine and equipment, and supporting families with food and hygiene items. \n",
      "\n",
      "The Protocol Guild is a council of Ethereum protocol contributors who aim to address the challenges of attracting and retaining talent to work on the protocol. They propose that 500,000 UNI tokens (~$2.5 million at $5.19 UNI) be allocated to support the ongoing work of these core contributors in the initial Protocol Guild Pilot. \n",
      "\n"
     ]
    }
   ],
   "source": [
    "for i in df['juniorDescription'].iloc[0:3].to_list(): print(i, '\\n')"
   ],
   "metadata": {
    "collapsed": false
   }
  },
  {
   "cell_type": "code",
   "execution_count": 5,
   "outputs": [
    {
     "name": "stdout",
     "output_type": "stream",
     "text": [
      "This proposal suggests adding Balancer Boosted Pools to the 1inch Aggregation Protocol. Once successful, 1inch Labs will get a BAL grant. Basically, Balancer Boosted Pools will be added to 1inch’s smart contracts, app, and API. It should be done in 3 weeks after the proposal gets approved and then 1inch Labs will get 20,000 BAL or the same amount in stablecoins. The idea is to increase the range of liquidity sources and build on the popularity of Balancer Boosted Pools. If it all goes according to the plan, it will create new opportunities for 1inch and Balancer and make trading cheaper. As more Boosted Pools are created, it will grow the network. However, 1inch Labs will need to make sure everything is secure before finalizing anything. Although it’s being funded by Balancer DAO, other network updates can proceed at the same time.\n",
      " \n",
      "\n",
      "The 1inch Network wants to donate $1 million from their DAO Treasury to support humanitarian aid in Ukraine. The DAO Treasury is a kind of savings fund the network has built up from transaction fees and it now has about $7 million stored. They plan to use part of this fund, turn it into a different type of digital currency called USDT, and then send it to Ukraine's official wallet for supporting their people in need, like fixing infrastructure and providing healthcare and food. The decision to do this is driven by the war crisis in Ukraine right now. The donation won't greatly affect the network's future plans but will significantly aid the relief efforts in Ukraine. They will provide proof and details of the transaction once it's done. \n",
      "\n",
      "The authors of this proposal are suggesting that the Uniswap community helps fund core Ethereum projects through a program called the Protocol Guild. In essence, they're asking for 500k Uniswap (UNI) tokens (equal to about $2.5 million) to be given to 110 core contributors to Ethereum. This would be a way to reward these contributors for their work and motivate them to keep going, considering that Ethereum itself doesn't offer token incentives. This is just a pilot program, and if it works out, the authors might try to expand it with more funds and a longer commitment period in the future. They believe that this will help Ethereum by making it more robust and attracting more talented people to work on it, and this in turn will also benefit Uniswap, since its success is closely tied to Ethereum's. \n",
      "\n"
     ]
    }
   ],
   "source": [
    "for i in df['GPT4_summary'].iloc[0:3].to_list(): print(i, '\\n')"
   ],
   "metadata": {
    "collapsed": false
   }
  },
  {
   "cell_type": "code",
   "execution_count": 6,
   "outputs": [
    {
     "name": "stdout",
     "output_type": "stream",
     "text": [
      "Proposal aims to grow the kinds of liquidity sources compatible with the 1inch Aggregation Protocol. To fund this development, a BAL grant from Balancer DAO and Balancers DAO will be awarded to 1inch Labs. Balancer seeks to fund this integration via a payment of 20,000 BAL to 1inch Labs. The integration of Balancers BatchSwap function within the 1inch Network will also be able to be used for pools other than Boosted Pools. In the near future we expect to see meta pools created with the BPT of Boosted Pools, an example would be a bbaUSD/WETH pool. Routing trades through such pools would include one or more extra hop through Balancers BatchSwap function. This is contingent on the same proposal passing through the BalancerDAO. Support for the mentioned pools will unlock $350mm of efficient TVL for the 1inch Aggregation Protocol. Boosted Pools have been adapted by BeethovenX, Balancers Friendly Fork on Fantom and, integrating them would provide a good source for volume to 1inch. Security review and audit should be performed before this change is implemented on main-net. Because Balancer DAO is directly funding this integration, other upgrades \n",
      "\n",
      "1inch Network was founded on core values of decentralization and open financial freedom. Since inception just over 3 months ago, the 1inch DAO Treasury has been highly successful in growing its total capital. This proposal aims to donate 1 million USDC of these accumulated funds to provide critical humanitarian support within Ukraine. 1inch Network is a global project which brings together extraordinary minds from all over the world. Both users and contributors alike are negatively affected by the recent war-time events unfolding this week. It is the absolute duty of 1inch DAO to provide support to civilians within the conflict zone. Transfer 1,000,000 USDT from 1inch DAO Treasury multi-sig wallet to the official humanitarian wallet of Ukraine. A screenshot and link to the transaction will be added to this proposal once the transfer of funds is complete. \n",
      "\n",
      "Protocol Guild will be a vested split contract which goes to 110 core protocol contributors. 500k UNI (~$2.5mm @ $5.19 UNI) will be allocated to support the ongoing work of these core contributors in the initial Protocol Guild Pilot. As the broader ecosystem continues to grow, competition for talented individuals will only increase. Financial motivations aren't the only or best motivator for people. Existing public goods funding solutions tend to be either too narrow or broad in scope. The Protocol Guild aims to address the challenges mentioned above with a simple tool: a weighted split contract that includes vesting. The Protocol benefits from contributor continuity. Transferring institutional knowledge between cohorts is more likely to happen successfully the more overlap there is. The EF is a self-curated community of over 110 members. Members come from 22 different teams and 9 organizations. Only 30% of members are directly employed by the EF. Members will solicit sponsorships in the form of tokens from applications & protocols that build on Ethereum. PG contracts will act as an autonomous value routing mechanism, operated independently from any existing institution. At no point does PG take custody of funds on behalf of members, it is all handled trustlessly. The first commitment is from Lido to contribute [2,000,000 LDO] The vote to contribute 200k ENS will conclude in the next few days. The funds for the Pilot would be vested directly to Guild members over one year. Uniswaps long-term success is tightly coupled with the continued evolution and maintenance of the Ethereum protocol. Contributing to the Pilot meaningfully increases the incentive to contribute to the core protocol. Having exposure to UNI allows protocol contributors to engage more with Uniswap governance. Members will be encouraged (but not obligated) to use the vested tokens in their respective governance framework. Pilot participation maintains and expands the communitys existing reputation for funding Public Goods. \n",
      "\n"
     ]
    }
   ],
   "source": [
    "for i in df_BART['extractiveSummarization'].iloc[0:3].to_list(): print(i, '\\n')"
   ],
   "metadata": {
    "collapsed": false
   }
  },
  {
   "cell_type": "code",
   "execution_count": 48,
   "outputs": [
    {
     "data": {
      "text/plain": "                                   seniorDescription  \\\n0  Simple Summary. This proposal calls for the in...   \n1  Summary. 1inch Network was founded on core val...   \n2  Authors: [Trent]([link]) (PG Member), [Tim]([l...   \n3  title: Aave V3 Harmony - Freeze Reserves. stat...   \n4  Summary. 1inch is a network of decentralized p...   \n5  Enable agEUR as a collateral in isolation mode...   \n6  [ARC] - UI/UX upgrade governance framework. Th...   \n7  Add borrowing support for RSR (Reserve Rights ...   \n8  Link to proposal summary: [link] --- Requested...   \n9  Proposal to vote on whether G-UNI should be sp...   \n\n                                   juniorDescription  \\\n0  The proposal is about integrating Balancer Boo...   \n1  The 1inch DAO Treasury is proposing to donate ...   \n2  The Protocol Guild is a council of Ethereum pr...   \n3  The proposal is about freezing all reserves on...   \n4  The proposal seeks to add 1inch Networks 1INCH...   \n5  The proposal is to allow agEUR to be used as a...   \n6  The proposal is about creating a governance fr...   \n7  The Reserve team would like to add borrowing s...   \n8  The proposal is about allocating a marketing a...   \n9  The proposal is to vote on whether G-UNI shoul...   \n\n                                GPT3_5_turbo_summary  \\\n0  This proposal suggests integrating Balancer Bo...   \n1  This proposal suggests donating 1 million USDC...   \n2  This proposal suggests that the Uniswap commun...   \n3  The proposal suggests freezing all reserves in...   \n4  The proposal suggests adding the 1inch Network...   \n5  The proposal suggests enabling agEUR as a coll...   \n6  The proposal is to upgrade the user interface ...   \n7  The proposal is to add support for borrowing t...   \n8  The proposal suggests allocating a budget of 5...   \n9  There is a proposal to vote on whether G-UNI s...   \n\n                                        GPT4_summary  \\\n0  This proposal suggests adding Balancer Boosted...   \n1  The 1inch Network wants to donate $1 million f...   \n2  The authors of this proposal are suggesting th...   \n3  This proposal by 3SE Holdings aims to address ...   \n4  This proposal suggests onboarding 1INCH, the t...   \n5  Angle Protocol wants to introduce agEUR, a Eur...   \n6  The Aave protocol, a decentralized ecosystem o...   \n7  The Reserve team is proposing to introduce bor...   \n8  The proposal suggests setting aside a Marketin...   \n9  This proposal is about deciding if G-UNI shoul...   \n\n                              BART_large_CNN_summary  \n0  Proposal aims to grow the kinds of liquidity s...  \n1  1inch Network was founded on core values of de...  \n2  Protocol Guild will be a vested split contract...  \n3  The Aave DAO Community has come to the rough c...  \n4  1inch is a network of decentralized protocols ...  \n5   Angle Protocol is a decentralized stablecoin ...  \n6  Aave protocol is a decentralized ecosystem of ...  \n7  Reserve Rights Token (RSR) is the governance t...  \n8  Gelato DAO has proposed a budget of 5,250,000....  \n9  There are 2 options that can be voted on if yo...  ",
      "text/html": "<div>\n<style scoped>\n    .dataframe tbody tr th:only-of-type {\n        vertical-align: middle;\n    }\n\n    .dataframe tbody tr th {\n        vertical-align: top;\n    }\n\n    .dataframe thead th {\n        text-align: right;\n    }\n</style>\n<table border=\"1\" class=\"dataframe\">\n  <thead>\n    <tr style=\"text-align: right;\">\n      <th></th>\n      <th>seniorDescription</th>\n      <th>juniorDescription</th>\n      <th>GPT3_5_turbo_summary</th>\n      <th>GPT4_summary</th>\n      <th>BART_large_CNN_summary</th>\n    </tr>\n  </thead>\n  <tbody>\n    <tr>\n      <th>0</th>\n      <td>Simple Summary. This proposal calls for the in...</td>\n      <td>The proposal is about integrating Balancer Boo...</td>\n      <td>This proposal suggests integrating Balancer Bo...</td>\n      <td>This proposal suggests adding Balancer Boosted...</td>\n      <td>Proposal aims to grow the kinds of liquidity s...</td>\n    </tr>\n    <tr>\n      <th>1</th>\n      <td>Summary. 1inch Network was founded on core val...</td>\n      <td>The 1inch DAO Treasury is proposing to donate ...</td>\n      <td>This proposal suggests donating 1 million USDC...</td>\n      <td>The 1inch Network wants to donate $1 million f...</td>\n      <td>1inch Network was founded on core values of de...</td>\n    </tr>\n    <tr>\n      <th>2</th>\n      <td>Authors: [Trent]([link]) (PG Member), [Tim]([l...</td>\n      <td>The Protocol Guild is a council of Ethereum pr...</td>\n      <td>This proposal suggests that the Uniswap commun...</td>\n      <td>The authors of this proposal are suggesting th...</td>\n      <td>Protocol Guild will be a vested split contract...</td>\n    </tr>\n    <tr>\n      <th>3</th>\n      <td>title: Aave V3 Harmony - Freeze Reserves. stat...</td>\n      <td>The proposal is about freezing all reserves on...</td>\n      <td>The proposal suggests freezing all reserves in...</td>\n      <td>This proposal by 3SE Holdings aims to address ...</td>\n      <td>The Aave DAO Community has come to the rough c...</td>\n    </tr>\n    <tr>\n      <th>4</th>\n      <td>Summary. 1inch is a network of decentralized p...</td>\n      <td>The proposal seeks to add 1inch Networks 1INCH...</td>\n      <td>The proposal suggests adding the 1inch Network...</td>\n      <td>This proposal suggests onboarding 1INCH, the t...</td>\n      <td>1inch is a network of decentralized protocols ...</td>\n    </tr>\n    <tr>\n      <th>5</th>\n      <td>Enable agEUR as a collateral in isolation mode...</td>\n      <td>The proposal is to allow agEUR to be used as a...</td>\n      <td>The proposal suggests enabling agEUR as a coll...</td>\n      <td>Angle Protocol wants to introduce agEUR, a Eur...</td>\n      <td>Angle Protocol is a decentralized stablecoin ...</td>\n    </tr>\n    <tr>\n      <th>6</th>\n      <td>[ARC] - UI/UX upgrade governance framework. Th...</td>\n      <td>The proposal is about creating a governance fr...</td>\n      <td>The proposal is to upgrade the user interface ...</td>\n      <td>The Aave protocol, a decentralized ecosystem o...</td>\n      <td>Aave protocol is a decentralized ecosystem of ...</td>\n    </tr>\n    <tr>\n      <th>7</th>\n      <td>Add borrowing support for RSR (Reserve Rights ...</td>\n      <td>The Reserve team would like to add borrowing s...</td>\n      <td>The proposal is to add support for borrowing t...</td>\n      <td>The Reserve team is proposing to introduce bor...</td>\n      <td>Reserve Rights Token (RSR) is the governance t...</td>\n    </tr>\n    <tr>\n      <th>8</th>\n      <td>Link to proposal summary: [link] --- Requested...</td>\n      <td>The proposal is about allocating a marketing a...</td>\n      <td>The proposal suggests allocating a budget of 5...</td>\n      <td>The proposal suggests setting aside a Marketin...</td>\n      <td>Gelato DAO has proposed a budget of 5,250,000....</td>\n    </tr>\n    <tr>\n      <th>9</th>\n      <td>Proposal to vote on whether G-UNI should be sp...</td>\n      <td>The proposal is to vote on whether G-UNI shoul...</td>\n      <td>There is a proposal to vote on whether G-UNI s...</td>\n      <td>This proposal is about deciding if G-UNI shoul...</td>\n      <td>There are 2 options that can be voted on if yo...</td>\n    </tr>\n  </tbody>\n</table>\n</div>"
     },
     "execution_count": 48,
     "metadata": {},
     "output_type": "execute_result"
    }
   ],
   "source": [
    "df[['seniorDescription', 'juniorDescription', 'GPT3_5_turbo_summary', 'GPT4_summary', 'BART_large_CNN_summary']].head(10)"
   ],
   "metadata": {
    "collapsed": false
   }
  },
  {
   "cell_type": "code",
   "execution_count": 7,
   "outputs": [],
   "source": [
    "# save df to csv\n",
    "df[['seniorDescription', 'juniorDescription', 'GPT3_5_turbo_summary', 'GPT4_summary', 'BART_large_CNN_summary']].to_csv('../data/eval/summaries_GPT3_5_turbo_GPT4_BART.csv', index=False, header=True)\n"
   ],
   "metadata": {
    "collapsed": false
   }
  },
  {
   "cell_type": "markdown",
   "source": [
    "## SUPERT"
   ],
   "metadata": {
    "collapsed": false
   }
  },
  {
   "cell_type": "code",
   "execution_count": null,
   "outputs": [],
   "source": [
    "from metrics.SUPERT.ref_free_metrics.supert import Supert\n",
    "from metrics.SUPERT.utils.data_reader import CorpusReader\n",
    "\n",
    "# read docs and summaries\n",
    "reader = CorpusReader('./metrics/SUPERT/data/topic_1')\n",
    "source_docs = reader()\n",
    "summaries = reader.readSummaries()\n",
    "\n",
    "# compute the Supert scores\n",
    "supert = Supert(source_docs)\n",
    "scores = supert(summaries)"
   ],
   "metadata": {
    "collapsed": false,
    "pycharm": {
     "is_executing": true
    }
   }
  },
  {
   "cell_type": "markdown",
   "source": [
    "## SummEval"
   ],
   "metadata": {
    "collapsed": false
   }
  },
  {
   "cell_type": "code",
   "execution_count": 8,
   "outputs": [
    {
     "data": {
      "text/plain": "'D:\\\\CVUT\\\\Diplom\\\\DIP\\\\metrics\\\\SummEval\\\\evaluation\\\\summ_eval\\\\ROUGE-1.5.5/'"
     },
     "execution_count": 8,
     "metadata": {},
     "output_type": "execute_result"
    }
   ],
   "source": [
    "import os\n",
    "os.environ['ROUGE_HOME'] = \"./metrics/SummEval/evaluation/summ_eval/ROUGE-1.5.5\"\n",
    "os.environ['ROUGE_HOME']"
   ],
   "metadata": {
    "collapsed": false
   }
  },
  {
   "cell_type": "code",
   "execution_count": 9,
   "outputs": [],
   "source": [
    "from summ_eval.rouge_metric import RougeMetric\n",
    "rouge = RougeMetric()"
   ],
   "metadata": {
    "collapsed": false
   }
  },
  {
   "cell_type": "code",
   "execution_count": null,
   "outputs": [],
   "source": [
    "summaries = [\"This is one summary\", \"This is another summary\"]\n",
    "references = [\"This is one reference\", \"This is another\"]\n",
    "\n",
    "rouge_dict = rouge.evaluate_batch(summaries, references)"
   ],
   "metadata": {
    "collapsed": false,
    "pycharm": {
     "is_executing": true
    }
   }
  }
 ],
 "metadata": {
  "kernelspec": {
   "display_name": "Python 3",
   "language": "python",
   "name": "python3"
  },
  "language_info": {
   "codemirror_mode": {
    "name": "ipython",
    "version": 2
   },
   "file_extension": ".py",
   "mimetype": "text/x-python",
   "name": "python",
   "nbconvert_exporter": "python",
   "pygments_lexer": "ipython2",
   "version": "2.7.6"
  }
 },
 "nbformat": 4,
 "nbformat_minor": 0
}
